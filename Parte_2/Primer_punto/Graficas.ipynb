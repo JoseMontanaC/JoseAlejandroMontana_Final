{
 "cells": [
  {
   "cell_type": "code",
   "execution_count": 92,
   "metadata": {},
   "outputs": [],
   "source": [
    "import numpy as np\n",
    "import matplotlib.pylab as plt\n",
    "cadenas=[]\n",
    "degrade= 0.2\n",
    "color=[\"plum\",\"m\",\"darkgreen\",\"firebrick\",\"salmon\",\"magenta\",\"peru\",\"c\"]"
   ]
  },
  {
   "cell_type": "code",
   "execution_count": 93,
   "metadata": {},
   "outputs": [],
   "source": [
    "def gauss(x,mu=0,sigma=1):\n",
    "    return 1.0/np.sqrt(2*np.pi*sigma**2)*np.exp(-0.5*(x-mu)**2/sigma**2)"
   ]
  },
  {
   "cell_type": "code",
   "execution_count": 94,
   "metadata": {},
   "outputs": [],
   "source": [
    "x = np.linspace(-4*sigma+mu,4*sigma+mu)"
   ]
  },
  {
   "cell_type": "code",
   "execution_count": 95,
   "metadata": {},
   "outputs": [
    {
     "data": {
      "image/png": "[encoded data removed]",
      "text/plain": [
       "<Figure size 432x288 with 1 Axes>"
      ]
     },
     "metadata": {
      "needs_background": "light"
     },
     "output_type": "display_data"
    }
   ],
   "source": [
    "aux=0\n",
    "M=8\n",
    "sigma=1\n",
    "mu=0\n",
    "for i in range(1,M+1):\n",
    "    archivo=np.genfromtxt(\"cadena_\"+str(i)+\".txt\")\n",
    "    plt.hist(archivo,bins=50,density=True,alpha=degrade,color=color[aux])\n",
    "    cadenas.append(archivo)\n",
    "    # degrade +=0.1\n",
    "    aux+=1\n",
    "plt.plot(x,gauss(x,mu,sigma))\n",
    "plt.savefig(\"Histograma.pdf\")\n",
    "plt.show()"
   ]
  },
  {
   "cell_type": "code",
   "execution_count": 96,
   "metadata": {},
   "outputs": [],
   "source": [
    "cadenas=np.array(cadenas)\n",
    "N=len(archivo)\n",
    "M=8"
   ]
  },
  {
   "cell_type": "code",
   "execution_count": 97,
   "metadata": {},
   "outputs": [],
   "source": [
    "promedios=np.mean(cadenas,axis=1)\n",
    "varianzas=np.std(cadenas,axis=1)\n",
    "theta=1.0/(M)*np.sum(promedios)"
   ]
  },
  {
   "cell_type": "code",
   "execution_count": 98,
   "metadata": {},
   "outputs": [],
   "source": [
    "B=N/(M-1.0)*(np.sum((promedios-theta)**2))"
   ]
  },
  {
   "cell_type": "code",
   "execution_count": 99,
   "metadata": {},
   "outputs": [],
   "source": [
    "W=(1.0/M)*np.sum(varianzas**2)"
   ]
  },
  {
   "cell_type": "code",
   "execution_count": 100,
   "metadata": {},
   "outputs": [
    {
     "data": {
      "text/plain": [
       "1.0007163109016002"
      ]
     },
     "execution_count": 100,
     "metadata": {},
     "output_type": "execute_result"
    }
   ],
   "source": [
    "V=((N-1)/N)*W + (M+1)/(M*N)*B\n",
    "V"
   ]
  },
  {
   "cell_type": "code",
   "execution_count": 101,
   "metadata": {},
   "outputs": [
    {
     "data": {
      "image/png": "[encoded data removed]",
      "text/plain": [
       "<Figure size 432x288 with 1 Axes>"
      ]
     },
     "metadata": {
      "needs_background": "light"
     },
     "output_type": "display_data"
    }
   ],
   "source": [
    "for i in range(10,N):\n",
    "    primedios=np.mean(cadenas[:,:i],axis=1)\n",
    "    varianzas=np.std(cadenas[:,:i],axis=1)\n",
    "    theta=1.0/(M)*np.sum(promedios)\n",
    "    B=N/(M-1.0)*(np.sum((promedios-theta)**2))\n",
    "    W=(1.0/M)*np.sum(varianzas**2)\n",
    "    V=((N-1)/N)*W + (M+1)/(M*N)*B\n",
    "    plt.scatter(i,V,color=\"b\")\n",
    "plt.savefig(\"Estadistica_gelman_rubin.pdf\")\n",
    "plt.show()"
   ]
  },
  {
   "cell_type": "code",
   "execution_count": null,
   "metadata": {},
   "outputs": [],
   "source": []
  },
  {
   "cell_type": "code",
   "execution_count": null,
   "metadata": {},
   "outputs": [],
   "source": []
  },
  {
   "cell_type": "code",
   "execution_count": null,
   "metadata": {},
   "outputs": [],
   "source": []
  }
 ],
 "metadata": {
  "kernelspec": {
   "display_name": "Python 3",
   "language": "python",
   "name": "python3"
  },
  "language_info": {
   "codemirror_mode": {
    "name": "ipython",
    "version": 3
   },
   "file_extension": ".py",
   "mimetype": "text/x-python",
   "name": "python",
   "nbconvert_exporter": "python",
   "pygments_lexer": "ipython3",
   "version": "3.6.6"
  }
 },
 "nbformat": 4,
 "nbformat_minor": 2
}
